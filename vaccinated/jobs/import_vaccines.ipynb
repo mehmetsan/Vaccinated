{
 "cells": [
  {
   "cell_type": "code",
   "id": "initial_id",
   "metadata": {
    "collapsed": true,
    "ExecuteTime": {
     "end_time": "2024-05-08T19:49:02.138021Z",
     "start_time": "2024-05-08T19:49:00.427744Z"
    }
   },
   "source": "import pandas as pd",
   "execution_count": 1,
   "outputs": []
  },
  {
   "metadata": {
    "ExecuteTime": {
     "end_time": "2024-05-08T19:49:04.405182Z",
     "start_time": "2024-05-08T19:49:04.396556Z"
    }
   },
   "cell_type": "code",
   "source": "df = pd.read_csv('vaccination_data.csv')",
   "id": "50dbd3782d4638e3",
   "execution_count": 2,
   "outputs": []
  },
  {
   "metadata": {
    "ExecuteTime": {
     "end_time": "2024-05-08T19:49:05.827802Z",
     "start_time": "2024-05-08T19:49:05.807570Z"
    }
   },
   "cell_type": "code",
   "source": "df",
   "id": "50e8c2a8f85e2a32",
   "execution_count": 3,
   "outputs": []
  },
  {
   "metadata": {
    "ExecuteTime": {
     "end_time": "2024-05-08T19:49:07.043648Z",
     "start_time": "2024-05-08T19:49:07.037108Z"
    }
   },
   "cell_type": "code",
   "source": "df.columns",
   "id": "5fb41845394cd04c",
   "execution_count": 4,
   "outputs": []
  },
  {
   "metadata": {
    "ExecuteTime": {
     "end_time": "2024-05-08T19:49:08.974064Z",
     "start_time": "2024-05-08T19:49:08.810257Z"
    }
   },
   "cell_type": "code",
   "source": [
    "import os, django\n",
    "os.environ.setdefault(\"DJANGO_SETTINGS_MODULE\", \"Vaccinated.settings\")\n",
    "os.environ[\"DJANGO_ALLOW_ASYNC_UNSAFE\"] = \"true\"\n",
    "django.setup()"
   ],
   "id": "1aeb5fec61fdb4ee",
   "execution_count": 5,
   "outputs": []
  },
  {
   "metadata": {
    "ExecuteTime": {
     "end_time": "2024-05-08T19:49:09.654614Z",
     "start_time": "2024-05-08T19:49:09.456819Z"
    }
   },
   "cell_type": "code",
   "source": [
    "from api.models import Vaccination\n",
    "\n",
    "for index, row in df.iterrows():\n",
    "    name = row['name']\n",
    "    dose = row['dose']\n",
    "    start = row['start']\n",
    "    end = row['end']\n",
    "    optional = True if row['optional'] == \"TRUE\" else False\n",
    "    total_doses = row['total_doses']\n",
    "\n",
    "    Vaccination.objects.create(name=name, dose=dose, start=start, end=end, optional=optional, total_doses=total_doses)"
   ],
   "id": "3a0b344f4936030a",
   "execution_count": 6,
   "outputs": []
  },
  {
   "metadata": {
    "jupyter": {
     "is_executing": true
    }
   },
   "cell_type": "code",
   "source": [
    "Vaccination.objects.create(\n",
    "    name=\"Influenza / Flu\",\n",
    "    yearly=True\n",
    ")"
   ],
   "id": "91396e39723f0e1e",
   "execution_count": null,
   "outputs": []
  },
  {
   "metadata": {},
   "cell_type": "code",
   "execution_count": null,
   "source": "",
   "id": "4960efd8ad17a32b",
   "outputs": []
  }
 ],
 "metadata": {
  "kernelspec": {
   "display_name": "Python 3",
   "language": "python",
   "name": "python3"
  },
  "language_info": {
   "codemirror_mode": {
    "name": "ipython",
    "version": 2
   },
   "file_extension": ".py",
   "mimetype": "text/x-python",
   "name": "python",
   "nbconvert_exporter": "python",
   "pygments_lexer": "ipython2",
   "version": "2.7.6"
  }
 },
 "nbformat": 4,
 "nbformat_minor": 5
}
